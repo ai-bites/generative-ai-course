{
 "cells": [
  {
   "cell_type": "markdown",
   "id": "b935077b-89d6-4262-b7b9-e5fa3945fd16",
   "metadata": {},
   "source": [
    "# Setup and Installs"
   ]
  },
  {
   "cell_type": "code",
   "execution_count": 1,
   "id": "0f6572d9-adf5-4189-a868-3404266fbbcb",
   "metadata": {},
   "outputs": [],
   "source": [
    "!pip install -qU langgraph \"langchain[openai]\" langchain-community langchain-text-splitters langchain-nvidia-ai-endpoints pypdf"
   ]
  },
  {
   "cell_type": "code",
   "execution_count": 2,
   "id": "36c21a9d-1a66-4dc0-9829-1b7973eb0e5d",
   "metadata": {},
   "outputs": [],
   "source": [
    "import getpass\n",
    "import os\n",
    "\n",
    "def _set_env(key: str):\n",
    "    if key not in os.environ:\n",
    "        os.environ[key] = getpass.getpass(f\"{key}:\")"
   ]
  },
  {
   "cell_type": "code",
   "execution_count": 4,
   "id": "ef2436bd-5866-4678-aaf7-73310bd67bc9",
   "metadata": {},
   "outputs": [],
   "source": [
    "_set_env(\"OPENAI_API_KEY\")"
   ]
  },
  {
   "cell_type": "code",
   "execution_count": 5,
   "id": "e35b4746-2ee9-4d8d-8557-5d9ea6825295",
   "metadata": {},
   "outputs": [
    {
     "name": "stdin",
     "output_type": "stream",
     "text": [
      "NVIDIA_API_KEY: ········\n"
     ]
    }
   ],
   "source": [
    "_set_env(\"NVIDIA_API_KEY\")"
   ]
  },
  {
   "cell_type": "markdown",
   "id": "79bf288a-93db-4a17-a12e-e3aaf6da5579",
   "metadata": {},
   "source": [
    "# All Imports"
   ]
  },
  {
   "cell_type": "code",
   "execution_count": 6,
   "id": "4d49c506-74ed-458c-b9c9-b3e0a7ec4c81",
   "metadata": {},
   "outputs": [],
   "source": [
    "from langchain_community.document_loaders import PyPDFLoader\n",
    "\n",
    "from langchain_nvidia_ai_endpoints import NVIDIAEmbeddings\n",
    "from langchain_core.vectorstores import InMemoryVectorStore\n",
    "\n",
    "from langchain.tools.retriever import create_retriever_tool"
   ]
  },
  {
   "cell_type": "markdown",
   "id": "161add50-0ed7-4202-8e91-d744c394da68",
   "metadata": {},
   "source": [
    "# Retrieval"
   ]
  },
  {
   "cell_type": "markdown",
   "id": "5e798ac4-885e-44a1-b9f5-ac6e3097aa7f",
   "metadata": {},
   "source": [
    "## Load Documents into Vector Store\n",
    "- Load the ArXivi papers\n",
    "- Embed them using the NVIDIA NeMo Retriever\n",
    "- Store the embeddings in vector store "
   ]
  },
  {
   "cell_type": "code",
   "execution_count": 8,
   "id": "1cdbe2f2-d59a-4c92-9aa1-1deef2daa139",
   "metadata": {},
   "outputs": [],
   "source": [
    "file_path = '/Users/ssankar/Documents/ai_bites/papers/group_norm.pdf'\n",
    "loader = PyPDFLoader(file_path)\n",
    "\n",
    "pages = []\n",
    "\n",
    "async for page in loader.alazy_load():\n",
    "    pages.append(page)"
   ]
  },
  {
   "cell_type": "code",
   "execution_count": 9,
   "id": "937ae01e-c6b8-4e7c-8fc9-9248e1d729e7",
   "metadata": {},
   "outputs": [
    {
     "name": "stderr",
     "output_type": "stream",
     "text": [
      "/Users/ssankar/miniconda3/envs/rag/lib/python3.12/site-packages/langchain_nvidia_ai_endpoints/_common.py:217: UserWarning: Found nvidia/llama-3.2-nemoretriever-1b-vlm-embed-v1 in available_models, but type is unknown and inference may fail.\n",
      "  warnings.warn(\n"
     ]
    }
   ],
   "source": [
    "embedding = NVIDIAEmbeddings(model=\"nvidia/llama-3.2-nemoretriever-1b-vlm-embed-v1\")\n",
    "\n",
    "vector_store = InMemoryVectorStore.from_documents(pages, embedding)\n",
    "retriever = vector_store.as_retriever()"
   ]
  },
  {
   "cell_type": "markdown",
   "id": "197fb37e-6ffe-4397-9af2-f57708b280d5",
   "metadata": {},
   "source": [
    "### Test if the vector store works"
   ]
  },
  {
   "cell_type": "code",
   "execution_count": 10,
   "id": "6e1d8bf4-f0d3-4dab-98fc-498639d3314b",
   "metadata": {},
   "outputs": [
    {
     "name": "stdout",
     "output_type": "stream",
     "text": [
      "Page 1: This paper presents Group Normalization (GN) as a sim-\n",
      "ple alternative to BN. We notice that many classical features\n",
      "like SIFT [39] and HOG [9] aregroup-wise features and in-\n",
      "volve group-wise normalization. For example, a HOG vec-\n",
      "tor is the outcome of several spatial cells where each cell is\n",
      "repres\n",
      "\n",
      "Page 0: Group Normalization\n",
      "Yuxin Wu Kaiming He\n",
      "Facebook AI Research (FAIR)\n",
      "{yuxinwu,kaiminghe}@fb.com\n",
      "Abstract\n",
      "Batch Normalization (BN) is a milestone technique in the\n",
      "development of deep learning, enabling various networks\n",
      "to train. However, normalizing along the batch dimension\n",
      "introduces problems — BN’s\n",
      "\n"
     ]
    }
   ],
   "source": [
    "docs = vector_store.similarity_search(\"What is group normalization?\", k=2)\n",
    "\n",
    "for doc in docs:\n",
    "    print(f'Page {doc.metadata[\"page\"]}: {doc.page_content[:300]}\\n')"
   ]
  },
  {
   "cell_type": "markdown",
   "id": "4f135c91-f1d6-4b4e-9084-7a5050ef44e0",
   "metadata": {},
   "source": [
    "## Build a Retrieval Tool for the Agent"
   ]
  },
  {
   "cell_type": "code",
   "execution_count": 11,
   "id": "fdd15b1f-4202-46a1-b6d9-d9f29b52a9f2",
   "metadata": {},
   "outputs": [],
   "source": [
    "retriever_tool = create_retriever_tool(\n",
    "    retriever,\n",
    "    \"retrieve_papers\",\n",
    "    \"Search and return information about Lilian Weng blog posts.\",\n",
    ")"
   ]
  },
  {
   "cell_type": "markdown",
   "id": "fa7b33e1-fb1b-435a-a524-54dc076c7502",
   "metadata": {},
   "source": [
    "# Build the Components of the Agent (for Agentic RAG)"
   ]
  },
  {
   "cell_type": "markdown",
   "id": "2715d98f-8210-4795-b238-3b58e6e08c57",
   "metadata": {},
   "source": [
    "## 1. Generator"
   ]
  },
  {
   "cell_type": "code",
   "execution_count": 12,
   "id": "f61243b1-3bf1-4399-bc9b-e1e03a588a1e",
   "metadata": {},
   "outputs": [],
   "source": [
    "from langgraph.graph import MessagesState\n",
    "from langchain.chat_models import init_chat_model\n",
    "\n",
    "response_model = init_chat_model(\"openai:gpt-4.1\", temperature=0)\n",
    "\n",
    "def generate_query_or_respond(state: MessagesState):\n",
    "    \"\"\"Call the model to generate a response based on the current state. Given\n",
    "    the question, it will decide to retrieve using the retriever tool, or simply respond to the user.\n",
    "    \"\"\"\n",
    "    response = (\n",
    "        response_model\n",
    "        .bind_tools([retriever_tool]).invoke(state[\"messages\"])\n",
    "    )\n",
    "    return {\"messages\": [response]}\n"
   ]
  },
  {
   "cell_type": "markdown",
   "id": "5370cdb7-6c3d-48db-a9fb-f75c18b142ab",
   "metadata": {},
   "source": [
    "### Test of it works "
   ]
  },
  {
   "cell_type": "code",
   "execution_count": 13,
   "id": "61d1c597-4572-4d05-89ea-fc8cf7bbd254",
   "metadata": {},
   "outputs": [
    {
     "name": "stdout",
     "output_type": "stream",
     "text": [
      "==================================\u001b[1m Ai Message \u001b[0m==================================\n",
      "\n",
      "Hello! How can I help you today?\n"
     ]
    }
   ],
   "source": [
    "input = {\"messages\": [{\"role\": \"user\", \"content\": \"hello!\"}]}\n",
    "generate_query_or_respond(input)[\"messages\"][-1].pretty_print()"
   ]
  },
  {
   "cell_type": "markdown",
   "id": "91b09b7b-f310-4f1a-b237-fc339ad300d9",
   "metadata": {},
   "source": [
    "## 2. Grade Documents"
   ]
  },
  {
   "cell_type": "code",
   "execution_count": 14,
   "id": "5c748872-3725-46ed-b07a-1a02b5d8edfb",
   "metadata": {},
   "outputs": [],
   "source": [
    "from pydantic import BaseModel, Field\n",
    "from typing import Literal\n",
    "\n",
    "GRADE_PROMPT = (\n",
    "    \"\"\"\n",
    "    You are a grader assessing the relevance of a retrieved document to a user question.\n",
    "    \n",
    "    User Question: {question}\n",
    "    \n",
    "    Retrieved Document:\n",
    "    {context}\n",
    "    \n",
    "    Grading Criteria:\n",
    "    - If the retrieved document contains keywords or phrases similar in meaning to those in the user question, grade it as \"relevant\".\n",
    "    - If it does not contain similar keywords or meaning, grade it as \"irrelevant\".\n",
    "    \n",
    "    Output:\n",
    "    - \"yes\" — if the document is relevant\n",
    "    - \"no\" — if the document is irrelevant\n",
    "    \"\"\"\n",
    ")\n",
    "\n",
    "class GradeDocuments(BaseModel):\n",
    "    \"\"\"Grade documents using a binary score for relevance check.\"\"\"\n",
    "    binary_score: str = Field(\n",
    "        description=\"Relevance score: 'yes' if relevant, or 'no' if not relevant\"\n",
    "    )\n",
    "\n",
    "\n",
    "grader_model = init_chat_model(\"openai:gpt-4.1\", temperature=0)\n",
    "\n",
    "\n",
    "def grade_documents(\n",
    "    state: MessagesState,\n",
    ") -> Literal[\"generate_answer\", \"rewrite_question\"]:\n",
    "    \"\"\"Determine whether the retrieved documents are relevant to the question.\"\"\"\n",
    "    question = state[\"messages\"][0].content\n",
    "    context = state[\"messages\"][-1].content\n",
    "\n",
    "    # print(f\"question is: {question}\")\n",
    "    # print(f\"context is: {context}\")    \n",
    "\n",
    "    prompt = GRADE_PROMPT.format(question=question, context=context)\n",
    "    response = (\n",
    "        grader_model\n",
    "        .with_structured_output(GradeDocuments).invoke(\n",
    "            [{\"role\": \"user\", \"content\": prompt}]\n",
    "        )\n",
    "    )\n",
    "    score = response.binary_score\n",
    "\n",
    "    print(f\"score is : {score}\")\n",
    "\n",
    "    if score == \"yes\":\n",
    "        return \"generate_answer\"\n",
    "    else:\n",
    "        return \"rewrite_question\"\n"
   ]
  },
  {
   "cell_type": "markdown",
   "id": "a75b8fbd-1e73-42f6-bfd2-2a1d8846d6aa",
   "metadata": {},
   "source": [
    "### Test if it works "
   ]
  },
  {
   "cell_type": "code",
   "execution_count": 15,
   "id": "70286696-863d-4ab7-b3e7-ae64290415ce",
   "metadata": {},
   "outputs": [
    {
     "name": "stdout",
     "output_type": "stream",
     "text": [
      "score is : no\n"
     ]
    },
    {
     "data": {
      "text/plain": [
       "'rewrite_question'"
      ]
     },
     "execution_count": 15,
     "metadata": {},
     "output_type": "execute_result"
    }
   ],
   "source": [
    "from langchain_core.messages import convert_to_messages\n",
    "\n",
    "input = {\n",
    "    \"messages\": convert_to_messages(\n",
    "        [\n",
    "            {\n",
    "                \"role\": \"user\",\n",
    "                \"content\": \"Group normalization has several advantages over batch normalization.\",\n",
    "            },\n",
    "            {\n",
    "                \"role\": \"assistant\",\n",
    "                \"content\": \"\",\n",
    "                \"tool_calls\": [\n",
    "                    {\n",
    "                        \"id\": \"1\",\n",
    "                        \"name\": \"retrieve_papers\",\n",
    "                        \"args\": {\"query\": \"advantages of group normalization\"},\n",
    "                    }\n",
    "                ],\n",
    "            },\n",
    "            {\"role\": \"tool\", \"content\": \"mehh\", \"tool_call_id\": \"1\"},\n",
    "        ]\n",
    "    )\n",
    "}\n",
    "grade_documents(input)"
   ]
  },
  {
   "cell_type": "code",
   "execution_count": 16,
   "id": "95f6316b-2574-44d7-9ee9-5856f7ed89be",
   "metadata": {},
   "outputs": [
    {
     "name": "stdout",
     "output_type": "stream",
     "text": [
      "score is : yes\n"
     ]
    },
    {
     "data": {
      "text/plain": [
       "'generate_answer'"
      ]
     },
     "execution_count": 16,
     "metadata": {},
     "output_type": "execute_result"
    }
   ],
   "source": [
    "from langchain_core.messages import convert_to_messages\n",
    "\n",
    "input = {\n",
    "    \"messages\": convert_to_messages(\n",
    "        [\n",
    "            {\n",
    "                \"role\": \"user\",\n",
    "                \"content\": \"What are the advantages of Group normalization over batch normalization?\",\n",
    "            },\n",
    "            {\n",
    "                \"role\": \"assistant\",\n",
    "                \"content\": \"\",\n",
    "                \"tool_calls\": [\n",
    "                    {\n",
    "                        \"id\": \"1\",\n",
    "                        \"name\": \"retrieve_papers\",\n",
    "                        \"args\": {\"query\": \"advantages of normalization\"},\n",
    "                    }\n",
    "                ],\n",
    "            },\n",
    "            {\"role\": \"tool\", \"content\": \"Group normalization is much faster than batch normalization.\", \"tool_call_id\": \"1\"},\n",
    "        ]\n",
    "    )\n",
    "}\n",
    "grade_documents(input)"
   ]
  },
  {
   "cell_type": "markdown",
   "id": "45621d85-b9c2-46fa-b492-c4772dc4ea15",
   "metadata": {},
   "source": [
    "## 3. Rewrite Questions"
   ]
  },
  {
   "cell_type": "code",
   "execution_count": 17,
   "id": "a3828d7f-3a43-4a08-93a6-36c85d170b20",
   "metadata": {},
   "outputs": [],
   "source": [
    "REWRITE_PROMPT = (\n",
    "    \"\"\"\n",
    "    You are a question rewriter, improving the clarity and effectiveness of a user's original question.\n",
    "\n",
    "    Original Question: {question}\n",
    "\n",
    "    Rewrite Criteria:    \n",
    "    Rewrite the question to make it clearer, more concise, and easier to understand, while preserving its original intent.\n",
    "    \n",
    "    If the question is ambiguous or vague, rephrase it to be more specific.\n",
    "    \n",
    "    Do not add new information or change the core meaning of the question.\n",
    "    \n",
    "    Output Format:\n",
    "    \n",
    "    Provide only the rewritten version of the question.\n",
    "    \"\"\"\n",
    ")\n",
    "\n",
    "def rewrite_question(state: MessagesState):\n",
    "    \"\"\"Rewrite the original user question.\"\"\"\n",
    "    messages = state[\"messages\"]\n",
    "    question = messages[0].content\n",
    "    prompt = REWRITE_PROMPT.format(question=question)\n",
    "    response = response_model.invoke([{\"role\": \"user\", \"content\": prompt}])\n",
    "    return {\"messages\": [{\"role\": \"user\", \"content\": response.content}]}"
   ]
  },
  {
   "cell_type": "markdown",
   "id": "3f38fb1a-6934-4a6e-8732-dfd627c974df",
   "metadata": {},
   "source": [
    "### Test if it works"
   ]
  },
  {
   "cell_type": "code",
   "execution_count": 20,
   "id": "89b191ef-222c-48a8-8db8-6bcd751dfe57",
   "metadata": {},
   "outputs": [
    {
     "name": "stdout",
     "output_type": "stream",
     "text": [
      "Do you have any insights or feedback on group normalization?\n"
     ]
    }
   ],
   "source": [
    "input = {\n",
    "    \"messages\": convert_to_messages(\n",
    "        [\n",
    "            {\n",
    "                \"role\": \"user\",\n",
    "                \"content\": \"any inputs on group norm?\",\n",
    "            },\n",
    "            {\n",
    "                \"role\": \"assistant\",\n",
    "                \"content\": \"\",\n",
    "                \"tool_calls\": [\n",
    "                    {\n",
    "                        \"id\": \"1\",\n",
    "                        \"name\": \"retrieve_papers\",\n",
    "                        \"args\": {\"query\": \"types of group norm\"},\n",
    "                    }\n",
    "                ],\n",
    "            },\n",
    "            {\"role\": \"tool\", \"content\": \"mehh\", \"tool_call_id\": \"1\"},\n",
    "        ]\n",
    "    )\n",
    "}\n",
    "\n",
    "response = rewrite_question(input)\n",
    "print(response[\"messages\"][-1][\"content\"])"
   ]
  },
  {
   "cell_type": "markdown",
   "id": "0542578d-a5cf-4798-b0c7-2c02bdb53efe",
   "metadata": {},
   "source": [
    "## 4. Generate Answer"
   ]
  },
  {
   "cell_type": "code",
   "execution_count": 21,
   "id": "cb75fc48-a53f-4acf-9e2d-3f8f2bf97943",
   "metadata": {},
   "outputs": [],
   "source": [
    "GENERATE_PROMPT = (\n",
    "    \"You are an assistant for question-answering tasks. \"\n",
    "    \"Use the following pieces of retrieved-context to answer the question. \"\n",
    "    \"If you don't know the answer, just say that you don't know. \"\n",
    "    \"Use three sentences maximum and keep the answer concise.\\n\"\n",
    "    \"Question: {question} \\n\"\n",
    "    \"Context: {context}\"\n",
    ")\n",
    "\n",
    "\n",
    "def generate_answer(state: MessagesState):\n",
    "    \"\"\"Generate an answer.\"\"\"\n",
    "    question = state[\"messages\"][0].content\n",
    "    context = state[\"messages\"][-1].content\n",
    "    prompt = GENERATE_PROMPT.format(question=question, context=context)\n",
    "    response = response_model.invoke([{\"role\": \"user\", \"content\": prompt}])\n",
    "    return {\"messages\": [response]}"
   ]
  },
  {
   "cell_type": "markdown",
   "id": "f5da63aa-2258-4645-b037-cb0a1372d440",
   "metadata": {},
   "source": [
    "### Test if it works "
   ]
  },
  {
   "cell_type": "code",
   "execution_count": 22,
   "id": "29deeac2-3e10-44cf-b846-1669e990eab5",
   "metadata": {},
   "outputs": [
    {
     "name": "stdout",
     "output_type": "stream",
     "text": [
      "==================================\u001b[1m Ai Message \u001b[0m==================================\n",
      "\n",
      "The paper discusses the idea of completely removing normalization layers, such as group normalization, batch normalization, and layer normalization, from neural network architectures. Instead of relying on these normalization techniques, the paper explores alternative methods to achieve stable and effective training. The main focus is on demonstrating that normalization layers may not be strictly necessary for good performance.\n"
     ]
    }
   ],
   "source": [
    "input = {\n",
    "    \"messages\": convert_to_messages(\n",
    "        [\n",
    "            {\n",
    "                \"role\": \"user\",\n",
    "                \"content\": \"What does the paper do?\",\n",
    "            },\n",
    "            {\n",
    "                \"role\": \"assistant\",\n",
    "                \"content\": \"\",\n",
    "                \"tool_calls\": [\n",
    "                    {\n",
    "                        \"id\": \"1\",\n",
    "                        \"name\": \"retrieve_papers\",\n",
    "                        \"args\": {\"query\": \"types of normalization\"},\n",
    "                    }\n",
    "                ],\n",
    "            },\n",
    "            {\n",
    "                \"role\": \"tool\",\n",
    "                \"content\": \"Normalization can be categorized into group normalization, batch normalization, layer normalization, etc.\" \n",
    "                           \"But this paper talks about completely getting rid of normalization layers!\",\n",
    "                \"tool_call_id\": \"1\",\n",
    "            },\n",
    "        ]\n",
    "    )\n",
    "}\n",
    "\n",
    "response = generate_answer(input)\n",
    "response[\"messages\"][-1].pretty_print()\n"
   ]
  },
  {
   "cell_type": "markdown",
   "id": "a8c006fe-921d-4b3b-bc60-ede8e57bfe9b",
   "metadata": {},
   "source": [
    "# Build the Agent in LangGraph"
   ]
  },
  {
   "cell_type": "code",
   "execution_count": 23,
   "id": "acff8d28-4176-40d2-9ef8-34fdf561a1ac",
   "metadata": {},
   "outputs": [],
   "source": [
    "from langgraph.graph import StateGraph, START, END\n",
    "from langgraph.prebuilt import ToolNode\n",
    "from langgraph.prebuilt import tools_condition\n",
    "\n",
    "graph = StateGraph(MessagesState)\n",
    "\n",
    "# Define the nodes we will cycle between\n",
    "graph.add_node(generate_query_or_respond)\n",
    "graph.add_node(\"retrieve\", ToolNode([retriever_tool]))\n",
    "graph.add_node(rewrite_question)\n",
    "graph.add_node(generate_answer)\n",
    "\n",
    "graph.add_edge(START, \"generate_query_or_respond\")\n",
    "\n",
    "# Decide whether to retrieve\n",
    "graph.add_conditional_edges(\n",
    "    \"generate_query_or_respond\",\n",
    "    # Assess LLM decision (call `retriever_tool` tool or respond to the user)\n",
    "    tools_condition,\n",
    "    {\n",
    "        # Translate the condition outputs to nodes in our graph\n",
    "        \"tools\": \"retrieve\",\n",
    "        END: END,\n",
    "    },\n",
    ")\n",
    "\n",
    "# Edges taken after the `action` node is called.\n",
    "graph.add_conditional_edges(\n",
    "    \"retrieve\",\n",
    "    # Assess agent decision\n",
    "    grade_documents,\n",
    ")\n",
    "graph.add_edge(\"generate_answer\", END)\n",
    "graph.add_edge(\"rewrite_question\", \"generate_query_or_respond\")\n",
    "\n",
    "# Compile\n",
    "compiled_graph = graph.compile()\n"
   ]
  },
  {
   "cell_type": "code",
   "execution_count": 24,
   "id": "8ce8b885-eeb4-4005-999e-799356f9e132",
   "metadata": {},
   "outputs": [
    {
     "data": {
      "image/png": "[encoded data removed]",
      "text/plain": [
       "<IPython.core.display.Image object>"
      ]
     },
     "metadata": {},
     "output_type": "display_data"
    }
   ],
   "source": [
    "from IPython.display import Image, display\n",
    "\n",
    "display(Image(compiled_graph.get_graph().draw_mermaid_png()))\n"
   ]
  },
  {
   "cell_type": "code",
   "execution_count": 25,
   "id": "a573ca09-ffbe-4965-95e9-c47a3f6ceb31",
   "metadata": {},
   "outputs": [
    {
     "name": "stdout",
     "output_type": "stream",
     "text": [
      "Update from node: generate_query_or_respond\n",
      "==================================\u001b[1m Ai Message \u001b[0m==================================\n",
      "\n",
      "That’s a great and complex question! The impact of AI on humanity is a topic of ongoing debate among experts, ethicists, and the general public. Here are some key points to consider:\n",
      "\n",
      "**Potential Benefits:**\n",
      "- **Healthcare:** AI can help diagnose diseases, personalize treatments, and accelerate drug discovery.\n",
      "- **Education:** AI-powered tools can provide personalized learning experiences and make education more accessible.\n",
      "- **Efficiency:** Automation of repetitive tasks can free up human time for more creative and meaningful work.\n",
      "- **Safety:** AI can improve safety in areas like transportation (self-driving cars) and disaster response.\n",
      "\n",
      "**Potential Risks:**\n",
      "- **Job Displacement:** Automation may lead to job losses in certain sectors, requiring adaptation and retraining.\n",
      "- **Bias and Fairness:** AI systems can perpetuate or even amplify existing biases if not carefully designed and monitored.\n",
      "- **Privacy:** The use of AI in surveillance and data analysis raises concerns about privacy and civil liberties.\n",
      "- **Autonomy and Control:** There are concerns about losing control over advanced AI systems or their misuse.\n",
      "\n",
      "**Conclusion:**\n",
      "AI is a tool, and like any tool, its impact depends on how it is developed and used. With thoughtful regulation, ethical considerations, and inclusive design, AI has the potential to be a force for good. However, it also requires vigilance to mitigate risks and ensure it benefits all of humanity.\n",
      "\n",
      "Would you like to explore a specific aspect of AI’s impact, such as its role in healthcare, ethics, or the future of work?\n",
      "\n",
      "\n",
      "\n"
     ]
    }
   ],
   "source": [
    "for chunk in compiled_graph.stream(\n",
    "    {\n",
    "        \"messages\": [\n",
    "            {\n",
    "                \"role\": \"user\",\n",
    "                \"content\": \"Do you think AI is for good for humanity?\",\n",
    "            }\n",
    "        ]\n",
    "    }\n",
    "):\n",
    "    for node, update in chunk.items():\n",
    "        print(f\"Update from node: {node}\")\n",
    "        update[\"messages\"][-1].pretty_print()\n",
    "        print(\"\\n\\n\")\n"
   ]
  },
  {
   "cell_type": "code",
   "execution_count": null,
   "id": "4efd84b6-5fe6-4482-9956-091c4fb059ed",
   "metadata": {},
   "outputs": [],
   "source": []
  }
 ],
 "metadata": {
  "kernelspec": {
   "display_name": "Python 3 (ipykernel)",
   "language": "python",
   "name": "python3"
  },
  "language_info": {
   "codemirror_mode": {
    "name": "ipython",
    "version": 3
   },
   "file_extension": ".py",
   "mimetype": "text/x-python",
   "name": "python",
   "nbconvert_exporter": "python",
   "pygments_lexer": "ipython3",
   "version": "3.12.2"
  }
 },
 "nbformat": 4,
 "nbformat_minor": 5
}
