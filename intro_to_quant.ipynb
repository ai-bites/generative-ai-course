{
  "cells": [
    {
      "cell_type": "markdown",
      "id": "e600d2ad-4ea1-4400-bd19-aae6d0b75f7d",
      "metadata": {
        "id": "e600d2ad-4ea1-4400-bd19-aae6d0b75f7d"
      },
      "source": [
        "# Sort out the installations\n",
        "We need 4 libraries for this introduction to Quantization tutorial.\n",
        "* Transformers\n",
        "* Accelerate\n",
        "* NumPy\n",
        "* MatplotLib"
      ]
    },
    {
      "cell_type": "code",
      "execution_count": 23,
      "id": "939ee67f-50e8-448c-aef3-f4340efb48ca",
      "metadata": {
        "colab": {
          "base_uri": "https://localhost:8080/"
        },
        "id": "939ee67f-50e8-448c-aef3-f4340efb48ca",
        "outputId": "69a34ae1-cd62-40f6-ed9e-af55c914f870"
      },
      "outputs": [
        {
          "output_type": "stream",
          "name": "stdout",
          "text": [
            "  Installing build dependencies ... \u001b[?25l\u001b[?25hdone\n",
            "  Getting requirements to build wheel ... \u001b[?25l\u001b[?25hdone\n",
            "  Preparing metadata (pyproject.toml) ... \u001b[?25l\u001b[?25hdone\n",
            "  Building wheel for accelerate (pyproject.toml) ... \u001b[?25l\u001b[?25hdone\n",
            "  Installing build dependencies ... \u001b[?25l\u001b[?25hdone\n",
            "  Getting requirements to build wheel ... \u001b[?25l\u001b[?25hdone\n",
            "  Preparing metadata (pyproject.toml) ... \u001b[?25l\u001b[?25hdone\n",
            "  Building wheel for transformers (pyproject.toml) ... \u001b[?25l\u001b[?25hdone\n",
            "Requirement already satisfied: matplotlib in /usr/local/lib/python3.10/dist-packages (3.8.3)\n",
            "Requirement already satisfied: contourpy>=1.0.1 in /usr/local/lib/python3.10/dist-packages (from matplotlib) (1.2.0)\n",
            "Requirement already satisfied: cycler>=0.10 in /usr/local/lib/python3.10/dist-packages (from matplotlib) (0.12.1)\n",
            "Requirement already satisfied: fonttools>=4.22.0 in /usr/local/lib/python3.10/dist-packages (from matplotlib) (4.49.0)\n",
            "Requirement already satisfied: kiwisolver>=1.3.1 in /usr/local/lib/python3.10/dist-packages (from matplotlib) (1.4.5)\n",
            "Requirement already satisfied: numpy<2,>=1.21 in /usr/local/lib/python3.10/dist-packages (from matplotlib) (1.26.4)\n",
            "Requirement already satisfied: packaging>=20.0 in /usr/local/lib/python3.10/dist-packages (from matplotlib) (23.2)\n",
            "Requirement already satisfied: pillow>=8 in /usr/local/lib/python3.10/dist-packages (from matplotlib) (9.4.0)\n",
            "Requirement already satisfied: pyparsing>=2.3.1 in /usr/local/lib/python3.10/dist-packages (from matplotlib) (3.1.2)\n",
            "Requirement already satisfied: python-dateutil>=2.7 in /usr/local/lib/python3.10/dist-packages (from matplotlib) (2.8.2)\n",
            "Requirement already satisfied: six>=1.5 in /usr/local/lib/python3.10/dist-packages (from python-dateutil>=2.7->matplotlib) (1.16.0)\n",
            "Requirement already satisfied: numpy in /usr/local/lib/python3.10/dist-packages (1.26.4)\n"
          ]
        }
      ],
      "source": [
        "# !pip install -q bitsandbytes>=0.39.0\n",
        "!pip install -q git+https://github.com/huggingface/accelerate.git\n",
        "!pip install -q git+https://github.com/huggingface/transformers.git\n",
        "\n",
        "# for visualizing weights\n",
        "!pip install -U matplotlib\n",
        "\n",
        "# for implementing quant methods\n",
        "!pip install -U numpy"
      ]
    },
    {
      "cell_type": "code",
      "execution_count": 2,
      "id": "67340600-1c54-4677-a72a-7b273f5cd505",
      "metadata": {
        "colab": {
          "base_uri": "https://localhost:8080/"
        },
        "id": "67340600-1c54-4677-a72a-7b273f5cd505",
        "outputId": "5e0f1d42-f3ad-4d14-e434-1867eff8ef24"
      },
      "outputs": [
        {
          "output_type": "stream",
          "name": "stderr",
          "text": [
            "/usr/local/lib/python3.10/dist-packages/huggingface_hub/utils/_token.py:88: UserWarning: \n",
            "The secret `HF_TOKEN` does not exist in your Colab secrets.\n",
            "To authenticate with the Hugging Face Hub, create a token in your settings tab (https://huggingface.co/settings/tokens), set it as secret in your Google Colab and restart your session.\n",
            "You will be able to reuse this secret in all of your notebooks.\n",
            "Please note that authentication is recommended but still optional to access public models or datasets.\n",
            "  warnings.warn(\n",
            "You are using the default legacy behaviour of the <class 'transformers.models.t5.tokenization_t5.T5Tokenizer'>. This is expected, and simply means that the `legacy` (previous) behavior will be used so nothing changes for you. If you want to use the new behaviour, set `legacy=False`. This should only be set if you understand what it means, and thoroughly read the reason why this was added as explained in https://github.com/huggingface/transformers/pull/24565\n",
            "Special tokens have been added in the vocabulary, make sure the associated word embeddings are fine-tuned or trained.\n"
          ]
        },
        {
          "output_type": "stream",
          "name": "stdout",
          "text": [
            "Model size: 307,844,608 bytes\n"
          ]
        }
      ],
      "source": [
        "import torch\n",
        "# from transformers import AutoModelForCausalLM, AutoTokenizer\n",
        "from transformers import T5Tokenizer, T5ForConditionalGeneration\n",
        "\n",
        "# Set device to CPU for now\n",
        "device = 'cuda:0' if torch.cuda.is_available() else \"cpu\"\n",
        "\n",
        "# Load model and tokenizer\n",
        "# model_name = \"google/gemma-2b\"\n",
        "model_name = \"google/flan-t5-small\"\n",
        "tokenizer = T5Tokenizer.from_pretrained(model_name)\n",
        "model = T5ForConditionalGeneration.from_pretrained(model_name)\n",
        "\n",
        "# get the model size to compare\n",
        "print(f\"Model size: {model.get_memory_footprint():,} bytes\")\n"
      ]
    },
    {
      "cell_type": "markdown",
      "id": "caa4416c-92dd-4023-9c88-540d397b6420",
      "metadata": {
        "id": "caa4416c-92dd-4023-9c88-540d397b6420"
      },
      "source": [
        "# Visualize the model architecture and some sample weights"
      ]
    },
    {
      "cell_type": "code",
      "execution_count": 3,
      "id": "810e6cd1-0e53-4b4d-a032-1745c00b9822",
      "metadata": {
        "colab": {
          "base_uri": "https://localhost:8080/"
        },
        "id": "810e6cd1-0e53-4b4d-a032-1745c00b9822",
        "outputId": "f67186bb-a70d-4e83-9c45-f35d270f8730"
      },
      "outputs": [
        {
          "output_type": "execute_result",
          "data": {
            "text/plain": [
              "T5ForConditionalGeneration(\n",
              "  (shared): Embedding(32128, 512)\n",
              "  (encoder): T5Stack(\n",
              "    (embed_tokens): Embedding(32128, 512)\n",
              "    (block): ModuleList(\n",
              "      (0): T5Block(\n",
              "        (layer): ModuleList(\n",
              "          (0): T5LayerSelfAttention(\n",
              "            (SelfAttention): T5Attention(\n",
              "              (q): Linear(in_features=512, out_features=384, bias=False)\n",
              "              (k): Linear(in_features=512, out_features=384, bias=False)\n",
              "              (v): Linear(in_features=512, out_features=384, bias=False)\n",
              "              (o): Linear(in_features=384, out_features=512, bias=False)\n",
              "              (relative_attention_bias): Embedding(32, 6)\n",
              "            )\n",
              "            (layer_norm): T5LayerNorm()\n",
              "            (dropout): Dropout(p=0.1, inplace=False)\n",
              "          )\n",
              "          (1): T5LayerFF(\n",
              "            (DenseReluDense): T5DenseGatedActDense(\n",
              "              (wi_0): Linear(in_features=512, out_features=1024, bias=False)\n",
              "              (wi_1): Linear(in_features=512, out_features=1024, bias=False)\n",
              "              (wo): Linear(in_features=1024, out_features=512, bias=False)\n",
              "              (dropout): Dropout(p=0.1, inplace=False)\n",
              "              (act): NewGELUActivation()\n",
              "            )\n",
              "            (layer_norm): T5LayerNorm()\n",
              "            (dropout): Dropout(p=0.1, inplace=False)\n",
              "          )\n",
              "        )\n",
              "      )\n",
              "      (1-7): 7 x T5Block(\n",
              "        (layer): ModuleList(\n",
              "          (0): T5LayerSelfAttention(\n",
              "            (SelfAttention): T5Attention(\n",
              "              (q): Linear(in_features=512, out_features=384, bias=False)\n",
              "              (k): Linear(in_features=512, out_features=384, bias=False)\n",
              "              (v): Linear(in_features=512, out_features=384, bias=False)\n",
              "              (o): Linear(in_features=384, out_features=512, bias=False)\n",
              "            )\n",
              "            (layer_norm): T5LayerNorm()\n",
              "            (dropout): Dropout(p=0.1, inplace=False)\n",
              "          )\n",
              "          (1): T5LayerFF(\n",
              "            (DenseReluDense): T5DenseGatedActDense(\n",
              "              (wi_0): Linear(in_features=512, out_features=1024, bias=False)\n",
              "              (wi_1): Linear(in_features=512, out_features=1024, bias=False)\n",
              "              (wo): Linear(in_features=1024, out_features=512, bias=False)\n",
              "              (dropout): Dropout(p=0.1, inplace=False)\n",
              "              (act): NewGELUActivation()\n",
              "            )\n",
              "            (layer_norm): T5LayerNorm()\n",
              "            (dropout): Dropout(p=0.1, inplace=False)\n",
              "          )\n",
              "        )\n",
              "      )\n",
              "    )\n",
              "    (final_layer_norm): T5LayerNorm()\n",
              "    (dropout): Dropout(p=0.1, inplace=False)\n",
              "  )\n",
              "  (decoder): T5Stack(\n",
              "    (embed_tokens): Embedding(32128, 512)\n",
              "    (block): ModuleList(\n",
              "      (0): T5Block(\n",
              "        (layer): ModuleList(\n",
              "          (0): T5LayerSelfAttention(\n",
              "            (SelfAttention): T5Attention(\n",
              "              (q): Linear(in_features=512, out_features=384, bias=False)\n",
              "              (k): Linear(in_features=512, out_features=384, bias=False)\n",
              "              (v): Linear(in_features=512, out_features=384, bias=False)\n",
              "              (o): Linear(in_features=384, out_features=512, bias=False)\n",
              "              (relative_attention_bias): Embedding(32, 6)\n",
              "            )\n",
              "            (layer_norm): T5LayerNorm()\n",
              "            (dropout): Dropout(p=0.1, inplace=False)\n",
              "          )\n",
              "          (1): T5LayerCrossAttention(\n",
              "            (EncDecAttention): T5Attention(\n",
              "              (q): Linear(in_features=512, out_features=384, bias=False)\n",
              "              (k): Linear(in_features=512, out_features=384, bias=False)\n",
              "              (v): Linear(in_features=512, out_features=384, bias=False)\n",
              "              (o): Linear(in_features=384, out_features=512, bias=False)\n",
              "            )\n",
              "            (layer_norm): T5LayerNorm()\n",
              "            (dropout): Dropout(p=0.1, inplace=False)\n",
              "          )\n",
              "          (2): T5LayerFF(\n",
              "            (DenseReluDense): T5DenseGatedActDense(\n",
              "              (wi_0): Linear(in_features=512, out_features=1024, bias=False)\n",
              "              (wi_1): Linear(in_features=512, out_features=1024, bias=False)\n",
              "              (wo): Linear(in_features=1024, out_features=512, bias=False)\n",
              "              (dropout): Dropout(p=0.1, inplace=False)\n",
              "              (act): NewGELUActivation()\n",
              "            )\n",
              "            (layer_norm): T5LayerNorm()\n",
              "            (dropout): Dropout(p=0.1, inplace=False)\n",
              "          )\n",
              "        )\n",
              "      )\n",
              "      (1-7): 7 x T5Block(\n",
              "        (layer): ModuleList(\n",
              "          (0): T5LayerSelfAttention(\n",
              "            (SelfAttention): T5Attention(\n",
              "              (q): Linear(in_features=512, out_features=384, bias=False)\n",
              "              (k): Linear(in_features=512, out_features=384, bias=False)\n",
              "              (v): Linear(in_features=512, out_features=384, bias=False)\n",
              "              (o): Linear(in_features=384, out_features=512, bias=False)\n",
              "            )\n",
              "            (layer_norm): T5LayerNorm()\n",
              "            (dropout): Dropout(p=0.1, inplace=False)\n",
              "          )\n",
              "          (1): T5LayerCrossAttention(\n",
              "            (EncDecAttention): T5Attention(\n",
              "              (q): Linear(in_features=512, out_features=384, bias=False)\n",
              "              (k): Linear(in_features=512, out_features=384, bias=False)\n",
              "              (v): Linear(in_features=512, out_features=384, bias=False)\n",
              "              (o): Linear(in_features=384, out_features=512, bias=False)\n",
              "            )\n",
              "            (layer_norm): T5LayerNorm()\n",
              "            (dropout): Dropout(p=0.1, inplace=False)\n",
              "          )\n",
              "          (2): T5LayerFF(\n",
              "            (DenseReluDense): T5DenseGatedActDense(\n",
              "              (wi_0): Linear(in_features=512, out_features=1024, bias=False)\n",
              "              (wi_1): Linear(in_features=512, out_features=1024, bias=False)\n",
              "              (wo): Linear(in_features=1024, out_features=512, bias=False)\n",
              "              (dropout): Dropout(p=0.1, inplace=False)\n",
              "              (act): NewGELUActivation()\n",
              "            )\n",
              "            (layer_norm): T5LayerNorm()\n",
              "            (dropout): Dropout(p=0.1, inplace=False)\n",
              "          )\n",
              "        )\n",
              "      )\n",
              "    )\n",
              "    (final_layer_norm): T5LayerNorm()\n",
              "    (dropout): Dropout(p=0.1, inplace=False)\n",
              "  )\n",
              "  (lm_head): Linear(in_features=512, out_features=32128, bias=False)\n",
              ")"
            ]
          },
          "metadata": {},
          "execution_count": 3
        }
      ],
      "source": [
        "# print the model architecture\n",
        "model"
      ]
    },
    {
      "cell_type": "code",
      "execution_count": 4,
      "id": "302eb248-e4e3-48c4-8b4c-218b0315f838",
      "metadata": {
        "colab": {
          "base_uri": "https://localhost:8080/"
        },
        "id": "302eb248-e4e3-48c4-8b4c-218b0315f838",
        "outputId": "2f9068fc-349a-45ae-9924-3c5e32a3dde2"
      },
      "outputs": [
        {
          "output_type": "stream",
          "name": "stdout",
          "text": [
            "Original weights:\n",
            "tensor([[-0.0316,  0.0092, -0.0255,  ...,  0.0726, -0.0743,  0.0248],\n",
            "        [-0.1088,  0.0024,  0.1102,  ...,  0.0702,  0.0320, -0.0037],\n",
            "        [-0.0230, -0.0305,  0.0025,  ...,  0.0196,  0.0333,  0.1948],\n",
            "        ...,\n",
            "        [-0.1560,  0.0096, -0.0963,  ...,  0.0430,  0.1022,  0.0862],\n",
            "        [-0.0767, -0.0164, -0.1109,  ..., -0.0115, -0.0603, -0.0807],\n",
            "        [-0.0468, -0.0603, -0.0261,  ..., -0.0425, -0.0016,  0.0135]])\n"
          ]
        }
      ],
      "source": [
        "# choose a self attention layer and check the weights\n",
        "weights = model.decoder.block[0].layer[0].SelfAttention.q.weight.data\n",
        "print(\"Original weights:\")\n",
        "print(weights)"
      ]
    },
    {
      "cell_type": "markdown",
      "id": "41c63ac2-5f25-41dc-8238-dbbdf11ea85d",
      "metadata": {
        "id": "41c63ac2-5f25-41dc-8238-dbbdf11ea85d"
      },
      "source": [
        "# Naive quantization Implementation\n",
        "We will quantize our input float tensors into int8 tensors using Naive quantization methods below.\n",
        "## Absolute Max Quantization\n",
        "Absolute max is a symmetric quantization method. There are two steps involved:\n",
        "\n",
        "    - divided by the absolute maximum value of the tensor\n",
        "    - multiply with a scalar of 127\n",
        "## Zero Point quantization\n",
        "Zero Point is an asymmetric quantization method useful when we use activations like ReLU which give outputs skewed towards the positive side (0 to 1) and suppress outputs in the negative side.\n",
        "\n",
        "    - normalize with differnce between max and min values\n",
        "    - scale range to 255\n",
        "    - calulate zero point and shift distribution centered around zero-point"
      ]
    },
    {
      "cell_type": "code",
      "execution_count": 5,
      "id": "fb9fff63-b7c2-453e-8bad-37be7bf2d7d3",
      "metadata": {
        "id": "fb9fff63-b7c2-453e-8bad-37be7bf2d7d3"
      },
      "outputs": [],
      "source": [
        "# absolute max quantization\n",
        "def absmax_quantize(ip):\n",
        "    # Calculate scale\n",
        "    scale = 127 / torch.max(torch.abs(ip))\n",
        "    # Quantize\n",
        "    ip_quant = (scale * ip).round()\n",
        "    # Dequantize\n",
        "    ip_dequant = ip_quant / scale\n",
        "    return ip_quant.to(torch.int8), ip_dequant\n",
        "\n",
        "\n",
        "# zero point quantization\n",
        "def zeropoint_quantize(ip):\n",
        "    # Calculate scale\n",
        "    ip_range = torch.max(ip) - torch.min(ip)\n",
        "    ip_range = 1 if ip_range == 0 else ip_range\n",
        "    scale = 255 / ip_range\n",
        "    # calculate zeropoint\n",
        "    zeropoint = (-scale * torch.min(ip) - 128).round()\n",
        "    # quantize by rounding\n",
        "    ip_quant = torch.clip((ip * scale + zeropoint).round(), -128, 127)\n",
        "    # dequantize\n",
        "    ip_dequant = (ip_quant - zeropoint) / scale\n",
        "    return ip_quant.to(torch.int8), ip_dequant\n"
      ]
    },
    {
      "cell_type": "code",
      "source": [
        "# test on simple tensors\n",
        "print(absmax_quantize(torch.tensor([-0.3, 0., 0.1, 0.7])))\n",
        "print(zeropoint_quantize(torch.tensor([-0.3, 0., 0.1, 0.7])))"
      ],
      "metadata": {
        "colab": {
          "base_uri": "https://localhost:8080/"
        },
        "id": "hhG_XwnboAYi",
        "outputId": "2ae007ef-0849-4145-d45b-acdf7d0a5c5c"
      },
      "id": "hhG_XwnboAYi",
      "execution_count": 6,
      "outputs": [
        {
          "output_type": "stream",
          "name": "stdout",
          "text": [
            "(tensor([-54,   0,  18, 127], dtype=torch.int8), tensor([-0.2976,  0.0000,  0.0992,  0.7000]))\n",
            "(tensor([-128,  -52,  -26,  126], dtype=torch.int8), tensor([-0.2980,  0.0000,  0.1020,  0.6980]))\n"
          ]
        }
      ]
    },
    {
      "cell_type": "code",
      "execution_count": 7,
      "id": "72863397-a863-41f4-a0bc-0c982a74a1c7",
      "metadata": {
        "colab": {
          "base_uri": "https://localhost:8080/"
        },
        "id": "72863397-a863-41f4-a0bc-0c982a74a1c7",
        "outputId": "1cb8d074-5724-46e5-9bcd-90482a4c959f"
      },
      "outputs": [
        {
          "output_type": "stream",
          "name": "stdout",
          "text": [
            "Absmax quantized weights:\n",
            "tensor([[ -9,   3,  -7,  ...,  20, -20,   7],\n",
            "        [-30,   1,  30,  ...,  19,   9,  -1],\n",
            "        [ -6,  -8,   1,  ...,   5,   9,  53],\n",
            "        ...,\n",
            "        [-43,   3, -26,  ...,  12,  28,  24],\n",
            "        [-21,  -4, -30,  ...,  -3, -17, -22],\n",
            "        [-13, -17,  -7,  ..., -12,   0,   4]], dtype=torch.int8)\n"
          ]
        }
      ],
      "source": [
        "# check absmax_quantize works on weights\n",
        "abs_weights_quant, _ = absmax_quantize(weights)\n",
        "print(\"Absmax quantized weights:\")\n",
        "print(abs_weights_quant)"
      ]
    },
    {
      "cell_type": "code",
      "execution_count": 8,
      "id": "57172a06-f96e-4647-a030-9b2ebba8b20c",
      "metadata": {
        "colab": {
          "base_uri": "https://localhost:8080/"
        },
        "id": "57172a06-f96e-4647-a030-9b2ebba8b20c",
        "outputId": "c9e39fdb-9e05-4022-d8ec-1fc987f19b01"
      },
      "outputs": [
        {
          "output_type": "stream",
          "name": "stdout",
          "text": [
            "Zero-point quantized weights:\n",
            "tensor([[ 14,  27,  16,  ...,  48,   0,  32],\n",
            "        [-12,  25,  60,  ...,  47,  34,  23],\n",
            "        [ 16,  14,  25,  ...,  30,  35,  88],\n",
            "        ...,\n",
            "        [-27,  27,  -8,  ...,  38,  57,  52],\n",
            "        [ -1,  19, -12,  ...,  20,   4,  -2],\n",
            "        [  9,   4,  15,  ...,  10,  23,  28]], dtype=torch.int8)\n"
          ]
        }
      ],
      "source": [
        "# check zeropoint_quantize works\n",
        "zp_weights_quant, _ = zeropoint_quantize(weights)\n",
        "print(\"Zero-point quantized weights:\")\n",
        "print(zp_weights_quant)"
      ]
    },
    {
      "cell_type": "code",
      "execution_count": 9,
      "id": "90be4835-99fc-4e93-89c7-99157a9291fd",
      "metadata": {
        "id": "90be4835-99fc-4e93-89c7-99157a9291fd"
      },
      "outputs": [],
      "source": [
        "import numpy as np\n",
        "from copy import deepcopy\n",
        "\n",
        "model = model.to(\"cuda:0\") if torch.cuda.is_available() else model\n",
        "weights = [param.data.clone() for param in model.parameters()]\n",
        "\n",
        "abs_model = deepcopy(model)\n",
        "zp_model = deepcopy(model)\n",
        "\n",
        "weights_abs = list()\n",
        "for param in abs_model.parameters():\n",
        "    _, abs_dequantized = absmax_quantize(param.data)\n",
        "    param.data = abs_dequantized\n",
        "    weights_abs.append(abs_dequantized)\n",
        "\n",
        "weights_zp = list()\n",
        "for param in zp_model.parameters():\n",
        "    _, zp_dequantized = absmax_quantize(param.data)\n",
        "    param.data = zp_dequantized\n",
        "    weights_zp.append(zp_dequantized)"
      ]
    },
    {
      "cell_type": "code",
      "execution_count": 11,
      "id": "7db29712-cea6-4693-bad2-64cb3da26718",
      "metadata": {
        "colab": {
          "base_uri": "https://localhost:8080/",
          "height": 1000
        },
        "id": "7db29712-cea6-4693-bad2-64cb3da26718",
        "outputId": "b6a121a4-a315-48a6-8e43-3c2d9685d744"
      },
      "outputs": [
        {
          "output_type": "display_data",
          "data": {
            "text/plain": [
              "<Figure size 1200x1200 with 2 Axes>"
            ],
            "image/png": "[encoded data removed]"
          },
          "metadata": {}
        }
      ],
      "source": [
        "# visualize the distribution of weights\n",
        "import numpy as np\n",
        "import matplotlib.pyplot as plt\n",
        "import matplotlib.ticker as ticker\n",
        "\n",
        "# Flatten weight tensors\n",
        "weights = np.concatenate([t.cpu().numpy().flatten() for t in weights])\n",
        "abs_weights = np.concatenate([t.cpu().numpy().flatten() for t in weights_abs])\n",
        "zp_weights = np.concatenate([t.cpu().numpy().flatten() for t in weights_zp])\n",
        "\n",
        "# Set background style\n",
        "plt.style.use('ggplot')\n",
        "\n",
        "# Create figure and axes\n",
        "fig, axs = plt.subplots(1, 2, figsize=(12,12), sharex=True)\n",
        "\n",
        "# Plot the histograms for original and zero-point weights\n",
        "axs[0].hist(weights, bins=150, alpha=0.5, label='Original weights', color='blue', range=(-2, 2))\n",
        "axs[0].hist(abs_weights, bins=150, alpha=0.5, label='Absmax weights', color='red', range=(-2, 2))\n",
        "\n",
        "# Plot the histograms for original and absmax weights\n",
        "axs[1].hist(weights, bins=150, alpha=0.5, label='Original weights', color='blue', range=(-2, 2))\n",
        "axs[1].hist(zp_weights, bins=150, alpha=0.5, label='Zero-point weights', color='green', range=(-2, 2))\n",
        "\n",
        "# Add grid\n",
        "for ax in axs:\n",
        "    ax.grid(True, linestyle='--', alpha=0.6)\n",
        "\n",
        "# Add legend\n",
        "axs[0].legend()\n",
        "axs[1].legend()\n",
        "\n",
        "# Add title and labels\n",
        "axs[0].set_title('Comparison of Original and Quantized Weights', fontsize=12)\n",
        "for ax in axs:\n",
        "    ax.set_xlabel('Weights', fontsize=12)\n",
        "    ax.set_ylabel('Count', fontsize=12)\n",
        "    ax.yaxis.set_major_formatter(ticker.EngFormatter()) # Make y-ticks more human readable\n",
        "\n",
        "# plot\n",
        "plt.tight_layout()\n",
        "plt.show()\n"
      ]
    },
    {
      "cell_type": "code",
      "execution_count": 16,
      "id": "c5d3ddb7-5b23-4ac8-8c40-072d2d53263d",
      "metadata": {
        "colab": {
          "base_uri": "https://localhost:8080/"
        },
        "id": "c5d3ddb7-5b23-4ac8-8c40-072d2d53263d",
        "outputId": "31dcf9c1-8ce6-453a-89b3-0359012f348d"
      },
      "outputs": [
        {
          "output_type": "stream",
          "name": "stderr",
          "text": [
            "/usr/local/lib/python3.10/dist-packages/transformers/generation/utils.py:1178: UserWarning: Using the model-agnostic default `max_length` (=20) to control the generation length. We recommend setting `max_new_tokens` to control the maximum length of the generation.\n",
            "  warnings.warn(\n"
          ]
        },
        {
          "output_type": "stream",
          "name": "stdout",
          "text": [
            "<pad>Un modèle de langue (LLM) est un modèle de langue notable pour sa capacité\n",
            "==================================================\n",
            "<pad>Une grande modèle de langue (LLM) est un modèle d'langage notable pour\n",
            "==================================================\n",
            "<pad>Une grande modèle de langue (LLM) est un modèle d'langage notable pour\n",
            "==================================================\n"
          ]
        }
      ],
      "source": [
        "# Generate text with original and quantized models\n",
        "text = \"A large language model (LLM) is a language model notable for its ability to achieve general-purpose \\\n",
        "        language generation and other natural language processing tasks such as classification. \\\n",
        "        LLMs acquire these abilities by learning statistical relationships from text documents \\\n",
        "        during a computationally intensive self-supervised and semi-supervised training process.\\\n",
        "        LLMs can be used for text generation, a form of generative AI, \\\n",
        "        by taking an input text and repeatedly predicting the next token or word.\"\n",
        "input_text = f\"translate from english to french: {text}\"\n",
        "if torch.cuda.is_available():\n",
        "  input_ids = tokenizer(input_text, return_tensors=\"pt\").input_ids.to(\"cuda\")\n",
        "else:\n",
        "  input_ids = tokenizer(input_text, return_tensors=\"pt\").input_ids\n",
        "\n",
        "model_outputs = model.generate(input_ids)\n",
        "print(tokenizer.decode(model_outputs[0]))\n",
        "print(\"=\" * 50)\n",
        "\n",
        "zp_model_op = zp_model.generate(input_ids)\n",
        "print(tokenizer.decode(zp_model_op[0]))\n",
        "print(\"=\" * 50)\n",
        "\n",
        "abs_model_op = abs_model.generate(input_ids)\n",
        "print(tokenizer.decode(abs_model_op[0]))\n",
        "print(\"=\" * 50)"
      ]
    },
    {
      "cell_type": "markdown",
      "id": "c0e88bd1-e91e-445d-b13e-19c624036c8f",
      "metadata": {
        "id": "c0e88bd1-e91e-445d-b13e-19c624036c8f"
      },
      "source": [
        "# Evaluate the 3 models"
      ]
    },
    {
      "cell_type": "code",
      "execution_count": 17,
      "id": "9d5cd276-4659-439d-ba83-5e10b79e821d",
      "metadata": {
        "id": "9d5cd276-4659-439d-ba83-5e10b79e821d"
      },
      "outputs": [],
      "source": [
        "def calculate_perplexity(model, text):\n",
        "    # Encode the text\n",
        "    encodings = tokenizer(text, return_tensors='pt').to(device)\n",
        "    # Define input_ids and target_ids\n",
        "    input_ids = encodings.input_ids\n",
        "    target_ids = input_ids.clone()\n",
        "    with torch.no_grad():\n",
        "        # loss, logits, past_key_values, decoder_hidden_states\n",
        "        negative_log_likelihood = model(input_ids, labels=target_ids).loss\n",
        "    # calculate perplexity\n",
        "    perplexity = torch.exp(negative_log_likelihood)\n",
        "    return perplexity\n"
      ]
    },
    {
      "cell_type": "code",
      "execution_count": 18,
      "id": "a900a191-d83f-4efc-b809-148caba26482",
      "metadata": {
        "colab": {
          "base_uri": "https://localhost:8080/"
        },
        "id": "a900a191-d83f-4efc-b809-148caba26482",
        "outputId": "7a4b86fe-9fa8-402e-e0d4-6960e0888ba2"
      },
      "outputs": [
        {
          "output_type": "stream",
          "name": "stdout",
          "text": [
            "Original perplexity: 1.50\n",
            "Absmax perplexity: 1.53\n",
            "Zeropoint perplexity: 1.53\n"
          ]
        }
      ],
      "source": [
        "perplexity = calculate_perplexity(model, input_text)\n",
        "absmax_perplexity = calculate_perplexity(abs_model, input_text)\n",
        "zp_perplexity  = calculate_perplexity(zp_model, input_text)\n",
        "\n",
        "print(f\"Original perplexity: {perplexity.item():.2f}\")\n",
        "print(f\"Absmax perplexity: {absmax_perplexity.item():.2f}\")\n",
        "print(f\"Zeropoint perplexity: {zp_perplexity.item():.2f}\")"
      ]
    }
  ],
  "metadata": {
    "kernelspec": {
      "display_name": "Python 3 (ipykernel)",
      "language": "python",
      "name": "python3"
    },
    "language_info": {
      "codemirror_mode": {
        "name": "ipython",
        "version": 3
      },
      "file_extension": ".py",
      "mimetype": "text/x-python",
      "name": "python",
      "nbconvert_exporter": "python",
      "pygments_lexer": "ipython3",
      "version": "3.11.4"
    },
    "colab": {
      "provenance": []
    }
  },
  "nbformat": 4,
  "nbformat_minor": 5
}